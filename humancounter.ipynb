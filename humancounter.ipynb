{
 "cells": [
  {
   "cell_type": "code",
   "execution_count": null,
   "id": "c22dfac9",
   "metadata": {},
   "outputs": [
    {
     "name": "stderr",
     "output_type": "stream",
     "text": [
      "fatal: destination path 'yolov5' already exists and is not an empty directory.\n"
     ]
    },
    {
     "name": "stdout",
     "output_type": "stream",
     "text": [
      "Requirement already satisfied: gitpython>=3.1.30 in c:\\users\\carlo\\appdata\\local\\programs\\python\\python312\\lib\\site-packages (from -r yolov5/requirements.txt (line 5)) (3.1.44)\n",
      "Requirement already satisfied: matplotlib>=3.3 in c:\\users\\carlo\\appdata\\local\\programs\\python\\python312\\lib\\site-packages (from -r yolov5/requirements.txt (line 6)) (3.9.2)\n",
      "Requirement already satisfied: numpy>=1.23.5 in c:\\users\\carlo\\appdata\\local\\programs\\python\\python312\\lib\\site-packages (from -r yolov5/requirements.txt (line 7)) (1.26.4)\n",
      "Requirement already satisfied: opencv-python>=4.1.1 in c:\\users\\carlo\\appdata\\local\\programs\\python\\python312\\lib\\site-packages (from -r yolov5/requirements.txt (line 8)) (4.11.0.86)\n",
      "Requirement already satisfied: pillow>=10.3.0 in c:\\users\\carlo\\appdata\\local\\programs\\python\\python312\\lib\\site-packages (from -r yolov5/requirements.txt (line 9)) (11.2.1)\n",
      "Requirement already satisfied: psutil in c:\\users\\carlo\\appdata\\roaming\\python\\python312\\site-packages (from -r yolov5/requirements.txt (line 10)) (6.0.0)\n",
      "Requirement already satisfied: PyYAML>=5.3.1 in c:\\users\\carlo\\appdata\\local\\programs\\python\\python312\\lib\\site-packages (from -r yolov5/requirements.txt (line 11)) (6.0.2)\n",
      "Requirement already satisfied: requests>=2.32.2 in c:\\users\\carlo\\appdata\\local\\programs\\python\\python312\\lib\\site-packages (from -r yolov5/requirements.txt (line 12)) (2.32.3)\n",
      "Requirement already satisfied: scipy>=1.4.1 in c:\\users\\carlo\\appdata\\local\\programs\\python\\python312\\lib\\site-packages (from -r yolov5/requirements.txt (line 13)) (1.15.1)\n",
      "Requirement already satisfied: thop>=0.1.1 in c:\\users\\carlo\\appdata\\local\\programs\\python\\python312\\lib\\site-packages (from -r yolov5/requirements.txt (line 14)) (0.1.1.post2209072238)\n",
      "Requirement already satisfied: torch>=1.8.0 in c:\\users\\carlo\\appdata\\local\\programs\\python\\python312\\lib\\site-packages (from -r yolov5/requirements.txt (line 15)) (2.2.0)\n",
      "Requirement already satisfied: torchvision>=0.9.0 in c:\\users\\carlo\\appdata\\local\\programs\\python\\python312\\lib\\site-packages (from -r yolov5/requirements.txt (line 16)) (0.17.0)\n",
      "Requirement already satisfied: tqdm>=4.66.3 in c:\\users\\carlo\\appdata\\local\\programs\\python\\python312\\lib\\site-packages (from -r yolov5/requirements.txt (line 17)) (4.67.1)\n",
      "Requirement already satisfied: ultralytics>=8.2.34 in c:\\users\\carlo\\appdata\\local\\programs\\python\\python312\\lib\\site-packages (from -r yolov5/requirements.txt (line 18)) (8.3.131)\n",
      "Requirement already satisfied: pandas>=1.1.4 in c:\\users\\carlo\\appdata\\local\\programs\\python\\python312\\lib\\site-packages (from -r yolov5/requirements.txt (line 27)) (2.2.0)\n",
      "Requirement already satisfied: seaborn>=0.11.0 in c:\\users\\carlo\\appdata\\local\\programs\\python\\python312\\lib\\site-packages (from -r yolov5/requirements.txt (line 28)) (0.13.2)\n",
      "Requirement already satisfied: setuptools>=70.0.0 in c:\\users\\carlo\\appdata\\local\\programs\\python\\python312\\lib\\site-packages (from -r yolov5/requirements.txt (line 42)) (80.7.1)\n",
      "Requirement already satisfied: gitdb<5,>=4.0.1 in c:\\users\\carlo\\appdata\\local\\programs\\python\\python312\\lib\\site-packages (from gitpython>=3.1.30->-r yolov5/requirements.txt (line 5)) (4.0.12)\n",
      "Requirement already satisfied: contourpy>=1.0.1 in c:\\users\\carlo\\appdata\\local\\programs\\python\\python312\\lib\\site-packages (from matplotlib>=3.3->-r yolov5/requirements.txt (line 6)) (1.3.0)\n",
      "Requirement already satisfied: cycler>=0.10 in c:\\users\\carlo\\appdata\\local\\programs\\python\\python312\\lib\\site-packages (from matplotlib>=3.3->-r yolov5/requirements.txt (line 6)) (0.12.1)\n",
      "Requirement already satisfied: fonttools>=4.22.0 in c:\\users\\carlo\\appdata\\local\\programs\\python\\python312\\lib\\site-packages (from matplotlib>=3.3->-r yolov5/requirements.txt (line 6)) (4.53.1)\n",
      "Requirement already satisfied: kiwisolver>=1.3.1 in c:\\users\\carlo\\appdata\\local\\programs\\python\\python312\\lib\\site-packages (from matplotlib>=3.3->-r yolov5/requirements.txt (line 6)) (1.4.7)\n",
      "Requirement already satisfied: packaging>=20.0 in c:\\users\\carlo\\appdata\\local\\programs\\python\\python312\\lib\\site-packages (from matplotlib>=3.3->-r yolov5/requirements.txt (line 6)) (23.2)\n",
      "Requirement already satisfied: pyparsing>=2.3.1 in c:\\users\\carlo\\appdata\\local\\programs\\python\\python312\\lib\\site-packages (from matplotlib>=3.3->-r yolov5/requirements.txt (line 6)) (3.1.4)\n",
      "Requirement already satisfied: python-dateutil>=2.7 in c:\\users\\carlo\\appdata\\local\\programs\\python\\python312\\lib\\site-packages (from matplotlib>=3.3->-r yolov5/requirements.txt (line 6)) (2.8.2)\n",
      "Requirement already satisfied: charset-normalizer<4,>=2 in c:\\users\\carlo\\appdata\\local\\programs\\python\\python312\\lib\\site-packages (from requests>=2.32.2->-r yolov5/requirements.txt (line 12)) (3.3.2)\n",
      "Requirement already satisfied: idna<4,>=2.5 in c:\\users\\carlo\\appdata\\roaming\\python\\python312\\site-packages (from requests>=2.32.2->-r yolov5/requirements.txt (line 12)) (3.7)\n",
      "Requirement already satisfied: urllib3<3,>=1.21.1 in c:\\users\\carlo\\appdata\\local\\programs\\python\\python312\\lib\\site-packages (from requests>=2.32.2->-r yolov5/requirements.txt (line 12)) (2.1.0)\n",
      "Requirement already satisfied: certifi>=2017.4.17 in c:\\users\\carlo\\appdata\\local\\programs\\python\\python312\\lib\\site-packages (from requests>=2.32.2->-r yolov5/requirements.txt (line 12)) (2023.11.17)\n",
      "Requirement already satisfied: filelock in c:\\users\\carlo\\appdata\\local\\programs\\python\\python312\\lib\\site-packages (from torch>=1.8.0->-r yolov5/requirements.txt (line 15)) (3.13.1)\n",
      "Requirement already satisfied: typing-extensions>=4.8.0 in c:\\users\\carlo\\appdata\\local\\programs\\python\\python312\\lib\\site-packages (from torch>=1.8.0->-r yolov5/requirements.txt (line 15)) (4.9.0)\n",
      "Requirement already satisfied: sympy in c:\\users\\carlo\\appdata\\local\\programs\\python\\python312\\lib\\site-packages (from torch>=1.8.0->-r yolov5/requirements.txt (line 15)) (1.12)\n",
      "Requirement already satisfied: networkx in c:\\users\\carlo\\appdata\\local\\programs\\python\\python312\\lib\\site-packages (from torch>=1.8.0->-r yolov5/requirements.txt (line 15)) (3.2.1)\n",
      "Requirement already satisfied: jinja2 in c:\\users\\carlo\\appdata\\local\\programs\\python\\python312\\lib\\site-packages (from torch>=1.8.0->-r yolov5/requirements.txt (line 15)) (3.1.3)\n",
      "Requirement already satisfied: fsspec in c:\\users\\carlo\\appdata\\local\\programs\\python\\python312\\lib\\site-packages (from torch>=1.8.0->-r yolov5/requirements.txt (line 15)) (2024.2.0)\n",
      "Requirement already satisfied: colorama in c:\\users\\carlo\\appdata\\local\\programs\\python\\python312\\lib\\site-packages (from tqdm>=4.66.3->-r yolov5/requirements.txt (line 17)) (0.4.6)\n",
      "Requirement already satisfied: py-cpuinfo in c:\\users\\carlo\\appdata\\local\\programs\\python\\python312\\lib\\site-packages (from ultralytics>=8.2.34->-r yolov5/requirements.txt (line 18)) (9.0.0)\n",
      "Requirement already satisfied: ultralytics-thop>=2.0.0 in c:\\users\\carlo\\appdata\\local\\programs\\python\\python312\\lib\\site-packages (from ultralytics>=8.2.34->-r yolov5/requirements.txt (line 18)) (2.0.14)\n",
      "Requirement already satisfied: pytz>=2020.1 in c:\\users\\carlo\\appdata\\local\\programs\\python\\python312\\lib\\site-packages (from pandas>=1.1.4->-r yolov5/requirements.txt (line 27)) (2024.1)\n",
      "Requirement already satisfied: tzdata>=2022.7 in c:\\users\\carlo\\appdata\\local\\programs\\python\\python312\\lib\\site-packages (from pandas>=1.1.4->-r yolov5/requirements.txt (line 27)) (2024.1)\n",
      "Requirement already satisfied: smmap<6,>=3.0.1 in c:\\users\\carlo\\appdata\\local\\programs\\python\\python312\\lib\\site-packages (from gitdb<5,>=4.0.1->gitpython>=3.1.30->-r yolov5/requirements.txt (line 5)) (5.0.2)\n",
      "Requirement already satisfied: six>=1.5 in c:\\users\\carlo\\appdata\\local\\programs\\python\\python312\\lib\\site-packages (from python-dateutil>=2.7->matplotlib>=3.3->-r yolov5/requirements.txt (line 6)) (1.16.0)\n",
      "Requirement already satisfied: MarkupSafe>=2.0 in c:\\users\\carlo\\appdata\\local\\programs\\python\\python312\\lib\\site-packages (from jinja2->torch>=1.8.0->-r yolov5/requirements.txt (line 15)) (2.1.5)\n",
      "Requirement already satisfied: mpmath>=0.19 in c:\\users\\carlo\\appdata\\local\\programs\\python\\python312\\lib\\site-packages (from sympy->torch>=1.8.0->-r yolov5/requirements.txt (line 15)) (1.3.0)\n",
      "Note: you may need to restart the kernel to use updated packages.\n"
     ]
    },
    {
     "name": "stderr",
     "output_type": "stream",
     "text": [
      "\n",
      "[notice] A new release of pip is available: 24.2 -> 25.1.1\n",
      "[notice] To update, run: python.exe -m pip install --upgrade pip\n"
     ]
    },
    {
     "name": "stdout",
     "output_type": "stream",
     "text": [
      "Requirement already satisfied: torch in c:\\users\\carlo\\appdata\\local\\programs\\python\\python312\\lib\\site-packages (2.2.0)\n",
      "Requirement already satisfied: torchvision in c:\\users\\carlo\\appdata\\local\\programs\\python\\python312\\lib\\site-packages (0.17.0)\n",
      "Requirement already satisfied: filelock in c:\\users\\carlo\\appdata\\local\\programs\\python\\python312\\lib\\site-packages (from torch) (3.13.1)\n",
      "Requirement already satisfied: typing-extensions>=4.8.0 in c:\\users\\carlo\\appdata\\local\\programs\\python\\python312\\lib\\site-packages (from torch) (4.9.0)\n",
      "Requirement already satisfied: sympy in c:\\users\\carlo\\appdata\\local\\programs\\python\\python312\\lib\\site-packages (from torch) (1.12)\n",
      "Requirement already satisfied: networkx in c:\\users\\carlo\\appdata\\local\\programs\\python\\python312\\lib\\site-packages (from torch) (3.2.1)\n",
      "Requirement already satisfied: jinja2 in c:\\users\\carlo\\appdata\\local\\programs\\python\\python312\\lib\\site-packages (from torch) (3.1.3)\n",
      "Requirement already satisfied: fsspec in c:\\users\\carlo\\appdata\\local\\programs\\python\\python312\\lib\\site-packages (from torch) (2024.2.0)\n",
      "Requirement already satisfied: numpy in c:\\users\\carlo\\appdata\\local\\programs\\python\\python312\\lib\\site-packages (from torchvision) (1.26.4)\n",
      "Requirement already satisfied: requests in c:\\users\\carlo\\appdata\\local\\programs\\python\\python312\\lib\\site-packages (from torchvision) (2.32.3)\n",
      "Requirement already satisfied: pillow!=8.3.*,>=5.3.0 in c:\\users\\carlo\\appdata\\local\\programs\\python\\python312\\lib\\site-packages (from torchvision) (11.2.1)\n",
      "Requirement already satisfied: MarkupSafe>=2.0 in c:\\users\\carlo\\appdata\\local\\programs\\python\\python312\\lib\\site-packages (from jinja2->torch) (2.1.5)\n",
      "Requirement already satisfied: charset-normalizer<4,>=2 in c:\\users\\carlo\\appdata\\local\\programs\\python\\python312\\lib\\site-packages (from requests->torchvision) (3.3.2)\n",
      "Requirement already satisfied: idna<4,>=2.5 in c:\\users\\carlo\\appdata\\roaming\\python\\python312\\site-packages (from requests->torchvision) (3.7)\n",
      "Requirement already satisfied: urllib3<3,>=1.21.1 in c:\\users\\carlo\\appdata\\local\\programs\\python\\python312\\lib\\site-packages (from requests->torchvision) (2.1.0)\n",
      "Requirement already satisfied: certifi>=2017.4.17 in c:\\users\\carlo\\appdata\\local\\programs\\python\\python312\\lib\\site-packages (from requests->torchvision) (2023.11.17)\n",
      "Requirement already satisfied: mpmath>=0.19 in c:\\users\\carlo\\appdata\\local\\programs\\python\\python312\\lib\\site-packages (from sympy->torch) (1.3.0)\n",
      "Note: you may need to restart the kernel to use updated packages.\n"
     ]
    },
    {
     "name": "stderr",
     "output_type": "stream",
     "text": [
      "\n",
      "[notice] A new release of pip is available: 24.2 -> 25.1.1\n",
      "[notice] To update, run: python.exe -m pip install --upgrade pip\n"
     ]
    }
   ],
   "source": [
    "%git clone https://github.com/ultralytics/yolov5.git\n",
    "%cd yolov5\n",
    "%pip install -r yolov5/requirements.txt\n",
    "%pip install torch torchvision\n"
   ]
  },
  {
   "cell_type": "code",
   "execution_count": null,
   "id": "eb0c1a48",
   "metadata": {},
   "outputs": [],
   "source": [
    "%pip install roboflow\n",
    "\n",
    "from roboflow import Roboflow\n",
    "rf = Roboflow(api_key=\"slOMbF0GzbEjGL6CVyeL\")\n",
    "project = rf.workspace(\"lian-vince-l-cunanan\").project(\"person-detection-9a6mk-rfpgy\")\n",
    "version = project.version(1)\n",
    "dataset = version.download(\"yolov5\")\n",
    "# to downlad the dataset"
   ]
  },
  {
   "cell_type": "code",
   "execution_count": null,
   "id": "0aa96f14",
   "metadata": {},
   "outputs": [],
   "source": [
    "%python train.py --img 640 --batch 16 --epochs 100 --data data.yaml --weights yolov5l.pt --patience 10\n",
    "#pang train ng model"
   ]
  },
  {
   "cell_type": "code",
   "execution_count": null,
   "id": "d1d96d01",
   "metadata": {},
   "outputs": [
    {
     "name": "stderr",
     "output_type": "stream",
     "text": [
      "Using cache found in C:\\Users\\Carlo/.cache\\torch\\hub\\ultralytics_yolov5_master\n",
      "YOLOv5  2025-5-19 Python-3.12.6 torch-2.2.0+cpu CPU\n",
      "\n",
      "Fusing layers... \n",
      "YOLOv5l summary: 367 layers, 46533693 parameters, 0 gradients, 109.0 GFLOPs\n",
      "Adding AutoShape... \n"
     ]
    }
   ],
   "source": [
    "import torch\n",
    "import cv2\n",
    "import time\n",
    "import numpy as np\n",
    "#pang test to ng model\n",
    "# Load YOLOv5 model to detect only people (class 0)\n",
    "model = torch.hub.load('ultralytics/yolov5', 'yolov5l',)\n",
    "model.classes = [0]\n",
    "\n",
    "video_path = \"People Walking Free Stock Footage, Royalty-Free No Copyright Content.mp4\"\n",
    "cap = cv2.VideoCapture(video_path)\n",
    "\n",
    "fps = 60\n",
    "frame_time = 1.0 / fps\n",
    "\n",
    "max_people_count = 0\n",
    "\n",
    "while True:\n",
    "    start_time = time.time()\n",
    "    ret, frame = cap.read()\n",
    "    if not ret:\n",
    "        break\n",
    "\n",
    "    # Detect people in the current frame\n",
    "    results = model(frame)\n",
    "    detections = results.xyxy[0].cpu().numpy()\n",
    "    current_people = len(detections)\n",
    "\n",
    "    # Update max counter with no upper limit\n",
    "    if current_people > max_people_count:\n",
    "        max_people_count = current_people\n",
    "\n",
    "    # Draw detections\n",
    "    for *xyxy, conf, cls in detections:\n",
    "        x1, y1, x2, y2 = map(int, xyxy)\n",
    "        cx = int((x1 + x2) / 2)\n",
    "        cy = int((y1 + y2) / 2)\n",
    "        cv2.rectangle(frame, (x1, y1), (x2, y2), (0, 255, 0), 2)\n",
    "        label = f\"Person {conf:.2f}\"\n",
    "        cv2.putText(frame, label, (x1, y1 - 10),\n",
    "                    cv2.FONT_HERSHEY_SIMPLEX, 0.5, (0, 255, 0), 2)\n",
    "        cv2.circle(frame, (cx, cy), 5, (0, 0, 255), -1)\n",
    "\n",
    "    # Display current and max people count\n",
    "    cv2.putText(frame, f\"People Now: {current_people}\", (10, 40),\n",
    "                cv2.FONT_HERSHEY_SIMPLEX, 0.8, (255, 255, 0), 2)\n",
    "    cv2.putText(frame, f\"Max People in Frame: {max_people_count}\", (10, 75),\n",
    "                cv2.FONT_HERSHEY_SIMPLEX, 0.8, (0, 0, 255), 2)\n",
    "    cv2.putText(frame, \"Press 'q' to quit, 's' to save & quit\", (10, 110),\n",
    "                cv2.FONT_HERSHEY_SIMPLEX, 0.6, (255, 255, 255), 2)\n",
    "\n",
    "    cv2.imshow('People Detection (Video)', frame)\n",
    "    key = cv2.waitKey(1) & 0xFF\n",
    "    if key == ord('q'):\n",
    "        break\n",
    "    if key == ord('s'):\n",
    "        with open(\"people_count.txt\", \"w\") as f:\n",
    "            f.write(f\"Max People in Frame: {max_people_count}\\n\")\n",
    "        print(f\"People count saved to people_count.txt: {max_people_count}\")\n",
    "        break\n",
    "\n",
    "    elapsed = time.time() - start_time\n",
    "    if elapsed < frame_time:\n",
    "        time.sleep(frame_time - elapsed)\n",
    "\n",
    "cap.release()\n",
    "cv2.destroyAllWindows()\n"
   ]
  },
  {
   "cell_type": "code",
   "execution_count": null,
   "id": "19c98226",
   "metadata": {},
   "outputs": [
    {
     "name": "stderr",
     "output_type": "stream",
     "text": [
      "Using cache found in C:\\Users\\Carlo/.cache\\torch\\hub\\ultralytics_yolov5_master\n",
      "YOLOv5  2025-5-19 Python-3.12.6 torch-2.2.0+cpu CPU\n",
      "\n",
      "Fusing layers... \n",
      "YOLOv5s summary: 213 layers, 7225885 parameters, 0 gradients, 16.4 GFLOPs\n",
      "Adding AutoShape... \n"
     ]
    },
    {
     "ename": "error",
     "evalue": "OpenCV(4.10.0) D:\\a\\opencv-python\\opencv-python\\opencv\\modules\\highgui\\src\\window.cpp:1301: error: (-2:Unspecified error) The function is not implemented. Rebuild the library with Windows, GTK+ 2.x or Cocoa support. If you are on Ubuntu or Debian, install libgtk2.0-dev and pkg-config, then re-run cmake or configure script in function 'cvShowImage'\n",
     "output_type": "error",
     "traceback": [
      "\u001b[1;31m---------------------------------------------------------------------------\u001b[0m",
      "\u001b[1;31merror\u001b[0m                                     Traceback (most recent call last)",
      "Cell \u001b[1;32mIn[1], line 30\u001b[0m\n\u001b[0;32m     26\u001b[0m     label \u001b[38;5;241m=\u001b[39m \u001b[38;5;124mf\u001b[39m\u001b[38;5;124m\"\u001b[39m\u001b[38;5;124mPerson \u001b[39m\u001b[38;5;132;01m{\u001b[39;00mconf\u001b[38;5;132;01m:\u001b[39;00m\u001b[38;5;124m.2f\u001b[39m\u001b[38;5;132;01m}\u001b[39;00m\u001b[38;5;124m\"\u001b[39m\n\u001b[0;32m     27\u001b[0m     cv2\u001b[38;5;241m.\u001b[39mputText(frame, label, (x1, y1 \u001b[38;5;241m-\u001b[39m \u001b[38;5;241m10\u001b[39m),\n\u001b[0;32m     28\u001b[0m                 cv2\u001b[38;5;241m.\u001b[39mFONT_HERSHEY_SIMPLEX, \u001b[38;5;241m0.5\u001b[39m, (\u001b[38;5;241m0\u001b[39m, \u001b[38;5;241m255\u001b[39m, \u001b[38;5;241m0\u001b[39m), \u001b[38;5;241m2\u001b[39m)\n\u001b[1;32m---> 30\u001b[0m \u001b[43mcv2\u001b[49m\u001b[38;5;241;43m.\u001b[39;49m\u001b[43mimshow\u001b[49m\u001b[43m(\u001b[49m\u001b[38;5;124;43m'\u001b[39;49m\u001b[38;5;124;43mLive People Detection\u001b[39;49m\u001b[38;5;124;43m'\u001b[39;49m\u001b[43m,\u001b[49m\u001b[43m \u001b[49m\u001b[43mframe\u001b[49m\u001b[43m)\u001b[49m\n\u001b[0;32m     31\u001b[0m \u001b[38;5;28;01mif\u001b[39;00m cv2\u001b[38;5;241m.\u001b[39mwaitKey(\u001b[38;5;241m1\u001b[39m) \u001b[38;5;241m&\u001b[39m \u001b[38;5;241m0xFF\u001b[39m \u001b[38;5;241m==\u001b[39m \u001b[38;5;28mord\u001b[39m(\u001b[38;5;124m'\u001b[39m\u001b[38;5;124mq\u001b[39m\u001b[38;5;124m'\u001b[39m):\n\u001b[0;32m     32\u001b[0m     \u001b[38;5;28;01mbreak\u001b[39;00m\n",
      "File \u001b[1;32mc:\\Users\\Carlo\\AppData\\Local\\Programs\\Python\\Python312\\Lib\\site-packages\\ultralytics\\utils\\patches.py:86\u001b[0m, in \u001b[0;36mimshow\u001b[1;34m(winname, mat)\u001b[0m\n\u001b[0;32m     68\u001b[0m \u001b[38;5;28;01mdef\u001b[39;00m \u001b[38;5;21mimshow\u001b[39m(winname: \u001b[38;5;28mstr\u001b[39m, mat: np\u001b[38;5;241m.\u001b[39mndarray):\n\u001b[0;32m     69\u001b[0m \u001b[38;5;250m    \u001b[39m\u001b[38;5;124;03m\"\"\"\u001b[39;00m\n\u001b[0;32m     70\u001b[0m \u001b[38;5;124;03m    Display an image in the specified window.\u001b[39;00m\n\u001b[0;32m     71\u001b[0m \n\u001b[1;32m   (...)\u001b[0m\n\u001b[0;32m     84\u001b[0m \u001b[38;5;124;03m        >>> imshow(\"Example Window\", img)  # Display the image\u001b[39;00m\n\u001b[0;32m     85\u001b[0m \u001b[38;5;124;03m    \"\"\"\u001b[39;00m\n\u001b[1;32m---> 86\u001b[0m     \u001b[43m_imshow\u001b[49m\u001b[43m(\u001b[49m\u001b[43mwinname\u001b[49m\u001b[38;5;241;43m.\u001b[39;49m\u001b[43mencode\u001b[49m\u001b[43m(\u001b[49m\u001b[38;5;124;43m\"\u001b[39;49m\u001b[38;5;124;43municode_escape\u001b[39;49m\u001b[38;5;124;43m\"\u001b[39;49m\u001b[43m)\u001b[49m\u001b[38;5;241;43m.\u001b[39;49m\u001b[43mdecode\u001b[49m\u001b[43m(\u001b[49m\u001b[43m)\u001b[49m\u001b[43m,\u001b[49m\u001b[43m \u001b[49m\u001b[43mmat\u001b[49m\u001b[43m)\u001b[49m\n",
      "\u001b[1;31merror\u001b[0m: OpenCV(4.10.0) D:\\a\\opencv-python\\opencv-python\\opencv\\modules\\highgui\\src\\window.cpp:1301: error: (-2:Unspecified error) The function is not implemented. Rebuild the library with Windows, GTK+ 2.x or Cocoa support. If you are on Ubuntu or Debian, install libgtk2.0-dev and pkg-config, then re-run cmake or configure script in function 'cvShowImage'\n"
     ]
    }
   ],
   "source": [
    "import torch\n",
    "import cv2\n",
    "import time\n",
    "\n",
    "# Load pretrained YOLOv5s model\n",
    "model = torch.hub.load('ultralytics/yolov5', 'yolov5l')\n",
    "model.classes = [0]  # Detect only people\n",
    "\n",
    "cap = cv2.VideoCapture(0)  # 0 = default webcam\n",
    "\n",
    "fps = 20\n",
    "frame_time = 1.0 / fps\n",
    "\n",
    "while True:\n",
    "    start_time = time.time()\n",
    "    ret, frame = cap.read()\n",
    "    if not ret:\n",
    "        break\n",
    "\n",
    "    results = model(frame)\n",
    "    detections = results.xyxy[0].cpu().numpy()\n",
    "\n",
    "    for *xyxy, conf, cls in detections:\n",
    "        x1, y1, x2, y2 = map(int, xyxy)\n",
    "        cv2.rectangle(frame, (x1, y1), (x2, y2), (0, 255, 0), 2)\n",
    "        label = f\"Person {conf:.2f}\"\n",
    "        cv2.putText(frame, label, (x1, y1 - 10),\n",
    "                    cv2.FONT_HERSHEY_SIMPLEX, 0.5, (0, 255, 0), 2)\n",
    "\n",
    "    cv2.imshow('Live People Detection', frame)\n",
    "    if cv2.waitKey(1) & 0xFF == ord('q'):\n",
    "        break\n",
    "\n",
    "    elapsed = time.time() - start_time\n",
    "    if elapsed < frame_time:\n",
    "        time.sleep(frame_time - elapsed)\n",
    "\n",
    "cap.release()\n",
    "cv2.destroyAllWindows()"
   ]
  }
 ],
 "metadata": {
  "kernelspec": {
   "display_name": "Python 3",
   "language": "python",
   "name": "python3"
  },
  "language_info": {
   "codemirror_mode": {
    "name": "ipython",
    "version": 3
   },
   "file_extension": ".py",
   "mimetype": "text/x-python",
   "name": "python",
   "nbconvert_exporter": "python",
   "pygments_lexer": "ipython3",
   "version": "3.12.6"
  }
 },
 "nbformat": 4,
 "nbformat_minor": 5
}
